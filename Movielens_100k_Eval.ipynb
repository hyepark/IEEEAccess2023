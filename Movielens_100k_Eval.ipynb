{
  "nbformat": 4,
  "nbformat_minor": 0,
  "metadata": {
    "colab": {
      "provenance": []
    },
    "kernelspec": {
      "name": "python3",
      "display_name": "Python 3"
    },
    "language_info": {
      "name": "python"
    }
  },
  "cells": [
    {
      "cell_type": "code",
      "execution_count": 1,
      "metadata": {
        "id": "ElHRplZ5dQcg"
      },
      "outputs": [],
      "source": [
        "import numpy as np\n",
        "import pandas as pd\n",
        "import torch\n",
        "import torch.nn as nn\n",
        "import torch.optim as optim\n",
        "from torch.autograd import Variable\n",
        "from scipy.stats import gaussian_kde\n",
        "from sklearn.cluster import KMeans\n",
        "import matplotlib.pyplot as plt\n",
        "\n",
        "Rmatrix_train_csv = pd.read_csv(\"https://raw.githubusercontent.com/hyepark/IEEEAccess2023/main/Rating_Matrix_100k_Train.csv\", index_col=0)\n",
        "Rmatrix_csv       = pd.read_csv(\"https://raw.githubusercontent.com/hyepark/IEEEAccess2023/main/Rating_Matrix_100k_All.csv\", index_col=0)\n",
        "Rmatrix_train_csv = Rmatrix_train_csv.replace(np.nan, 0)\n",
        "Rmatrix_csv       = Rmatrix_csv.replace(np.nan, 0)\n",
        "\n",
        "Rmatrix_train = np.array(Rmatrix_train_csv)\n",
        "Rmatrix       = np.array(Rmatrix_csv)\n",
        "\n",
        "Bmatrix_train = np.where(Rmatrix_train > 0, 1, 0)\n",
        "Bmatrix = np.where(Rmatrix > 0, 1, 0)\n",
        "\n",
        "num_user  = len(Rmatrix_csv.index)\n",
        "num_movie = len(Rmatrix_csv.columns)"
      ]
    },
    {
      "cell_type": "code",
      "source": [
        "print(\"Users:\", num_user)\n",
        "print(\"Movies:\", num_movie)\n",
        "print(\"Ratings:\", np.sum(Bmatrix))\n",
        "print(\"Density (Training Dataset):\", np.sum(Bmatrix_train)/(num_user*num_movie))\n",
        "print(\"Density (All Dataset):\", np.sum(Bmatrix)/(num_user*num_movie))"
      ],
      "metadata": {
        "colab": {
          "base_uri": "https://localhost:8080/"
        },
        "id": "o11Vjr00Ol-L",
        "outputId": "734b3108-a4cb-4cfe-9612-503a50a2eb1d"
      },
      "execution_count": 2,
      "outputs": [
        {
          "output_type": "stream",
          "name": "stdout",
          "text": [
            "Users: 943\n",
            "Movies: 1650\n",
            "Ratings: 99968\n",
            "Density (Training Dataset): 0.051415533918185034\n",
            "Density (All Dataset): 0.06424885118416401\n"
          ]
        }
      ]
    },
    {
      "cell_type": "code",
      "source": [
        "class AE(nn.Module):\n",
        "    def __init__(self, ):\n",
        "        super(AE, self).__init__()\n",
        "        self.fc1 = nn.Linear(num_movie, 16)\n",
        "        self.fc2 = nn.Linear(16, num_movie)\n",
        "        #self.activation = nn.ReLU()\n",
        "        self.activation = nn.Sigmoid()\n",
        "    def forward(self, x):\n",
        "        x = self.fc1(x)\n",
        "        x = self.activation(x)\n",
        "        y = self.fc2(x)\n",
        "        return x, y"
      ],
      "metadata": {
        "id": "QVIx9kZtdRhF"
      },
      "execution_count": 3,
      "outputs": []
    },
    {
      "cell_type": "code",
      "source": [
        "ae = AE(); ae.load_state_dict(torch.load('ae_100k.pt'))\n",
        "ae_cat = AE(); ae_cat.load_state_dict(torch.load('ae_cat_100k.pt'))\n",
        "ae_cat2 = AE(); ae_cat2.load_state_dict(torch.load('ae_cat2_100k.pt'))\n",
        "ae_main = AE(); ae_main.load_state_dict(torch.load('ae_main_100k.pt'))"
      ],
      "metadata": {
        "id": "4MzvfuVtdhi1",
        "colab": {
          "base_uri": "https://localhost:8080/"
        },
        "outputId": "61105fba-8f20-4b21-ce9e-de85f39b35d5"
      },
      "execution_count": 4,
      "outputs": [
        {
          "output_type": "execute_result",
          "data": {
            "text/plain": [
              "<All keys matched successfully>"
            ]
          },
          "metadata": {},
          "execution_count": 4
        }
      ]
    },
    {
      "cell_type": "code",
      "source": [
        "training_in = Rmatrix_train/5\n",
        "training_set = torch.FloatTensor(Rmatrix_train)/5\n",
        "\n",
        "for i in range(num_user):\n",
        "    input = Variable(training_set[i]).unsqueeze(0)\n",
        "    output = ae(input)[1]\n",
        "    output[input == 0] = 0\n",
        "\n",
        "    if i == 0: training_out = output.detach().numpy()\n",
        "    else: training_out = np.append(training_out, output.detach().numpy(), axis=0)\n",
        "\n",
        "train_loss_mat = 5*np.abs(training_in - training_out)\n",
        "train_loss_list  = []; train_loss_list1 = []; train_loss_list2 = []\n",
        "train_loss_list3 = []; train_loss_list4 = []; train_loss_list5 = []\n",
        "for i in range(len(train_loss_mat)):\n",
        "    for j in range(len(train_loss_mat[0])):\n",
        "        if train_loss_mat[i][j] != 0:\n",
        "            train_loss_list += [train_loss_mat[i][j]]\n",
        "        if round(5*training_in[i][j]) == 1: train_loss_list1 += [5*training_out[i][j]]\n",
        "        if round(5*training_in[i][j]) == 2: train_loss_list2 += [5*training_out[i][j]]\n",
        "        if round(5*training_in[i][j]) == 3: train_loss_list3 += [5*training_out[i][j]]\n",
        "        if round(5*training_in[i][j]) == 4: train_loss_list4 += [5*training_out[i][j]]\n",
        "        if round(5*training_in[i][j]) == 5: train_loss_list5 += [5*training_out[i][j]]\n",
        "\n",
        "xs = np.linspace(0.0, 5.0, 200)\n",
        "pdf_pred = gaussian_kde(train_loss_list)\n",
        "fig_pdf_train = plt.figure()\n",
        "plt.plot(xs, pdf_pred(xs), linewidth=2.5)\n",
        "plt.xticks(fontsize = 12)\n",
        "plt.yticks(fontsize = 12)\n",
        "plt.xlabel(\"Reconstruction Error\", fontsize=14)\n",
        "plt.ylabel(\"PDF\", fontsize=14)\n",
        "plt.xlim([0,4])\n",
        "plt.grid(linestyle='--', linewidth=0.5)\n",
        "plt.show()\n",
        "\n",
        "fig_box_train, ax = plt.subplots()\n",
        "ax.boxplot(np.array([train_loss_list1, train_loss_list2, train_loss_list3, train_loss_list4, train_loss_list5], dtype=object))\n",
        "ax.set_xlabel(\"Real Rating\", fontsize=14)\n",
        "ax.set_ylabel(\"Reconstructed Rating\", fontsize=14)\n",
        "plt.ylim([0,5.9])\n",
        "plt.show()"
      ],
      "metadata": {
        "id": "ZzMJLCfPfAhh",
        "colab": {
          "base_uri": "https://localhost:8080/",
          "height": 552
        },
        "outputId": "c9b79dc1-35dd-4863-ee67-2e083bcc899f"
      },
      "execution_count": 5,
      "outputs": [
        {
          "output_type": "display_data",
          "data": {
            "text/plain": [
              "<Figure size 432x288 with 1 Axes>"
            ],
            "image/png": "[encoded data removed]"
          },
          "metadata": {
            "needs_background": "light"
          }
        },
        {
          "output_type": "display_data",
          "data": {
            "text/plain": [
              "<Figure size 432x288 with 1 Axes>"
            ],
            "image/png": "[encoded data removed]"
          },
          "metadata": {
            "needs_background": "light"
          }
        }
      ]
    },
    {
      "cell_type": "code",
      "source": [
        "Rmatrix_train_pre = Rmatrix_train.copy()\n",
        "Rmatrix_pre = Rmatrix.copy()\n",
        "\n",
        "Cat_user  = np.zeros((num_user, num_movie))\n",
        "Cat_movie = np.zeros((num_user, num_movie))\n",
        "\n",
        "for i in range(num_user):\n",
        "    Weak_user    = list(Rmatrix_train[i]).count(1) >= list(Rmatrix_train[i]).count(2) + list(Rmatrix_train[i]).count(3) + list(Rmatrix_train[i]).count(4) + list(Rmatrix_train[i]).count(5)\n",
        "    Average_user = list(Rmatrix_train[i]).count(2) + list(Rmatrix_train[i]).count(3) >= list(Rmatrix_train[i]).count(1) + list(Rmatrix_train[i]).count(4) + list(Rmatrix_train[i]).count(5)\n",
        "    Strong_user  = list(Rmatrix_train[i]).count(4) + list(Rmatrix_train[i]).count(5) >= list(Rmatrix_train[i]).count(1) + list(Rmatrix_train[i]).count(2) + list(Rmatrix_train[i]).count(3)\n",
        "    if Weak_user:    Cat_user[i] = np.array([1 for _ in range(num_movie)])\n",
        "    if Average_user: Cat_user[i] = np.array([10 for _ in range(num_movie)])\n",
        "    if Strong_user:  Cat_user[i] = np.array([100 for _ in range(num_movie)])\n",
        "\n",
        "for j in range(num_movie):\n",
        "    Weak_movie    = list(Rmatrix_train[:,j]).count(1) >= list(Rmatrix_train[:,j]).count(2) + list(Rmatrix_train[:,j]).count(3) + list(Rmatrix_train[:,j]).count(4) + list(Rmatrix_train[:,j]).count(5)\n",
        "    Average_movie = list(Rmatrix_train[:,j]).count(2) + list(Rmatrix_train[:,j]).count(3) >= list(Rmatrix_train[:,j]).count(1) + list(Rmatrix_train[:,j]).count(4) + list(Rmatrix_train[:,j]).count(5)\n",
        "    Strong_movie  = list(Rmatrix_train[:,j]).count(4) + list(Rmatrix_train[:,j]).count(5) >= list(Rmatrix_train[:,j]).count(1) + list(Rmatrix_train[:,j]).count(2) + list(Rmatrix_train[:,j]).count(3)\n",
        "    if Weak_movie:    Cat_movie[:,j] = np.array([1 for _ in range(num_user)])\n",
        "    if Average_movie: Cat_movie[:,j] = np.array([10 for _ in range(num_user)])\n",
        "    if Strong_movie:  Cat_movie[:,j] = np.array([100 for _ in range(num_user)])\n",
        "\n",
        "Cat_rating = Cat_user+Cat_movie\n",
        "for i in range(num_user):\n",
        "    for j in range(num_movie):\n",
        "        if Cat_rating[i][j] == 2 and Rmatrix_train[i][j] >= 2:\n",
        "            Rmatrix_train_pre[i][j] = 0; Rmatrix_pre[i][j] = 0\n",
        "        if Cat_rating[i][j] == 20 and 0 < Rmatrix_train[i][j] < 2:\n",
        "            Rmatrix_train_pre[i][j] = 0; Rmatrix_pre[i][j] = 0\n",
        "        if Cat_rating[i][j] == 20 and Rmatrix_train[i][j] >= 4:\n",
        "            Rmatrix_train_pre[i][j] = 0; Rmatrix_pre[i][j] = 0\n",
        "        if Cat_rating[i][j] == 200 and 0 < Rmatrix_train[i][j] < 4:\n",
        "            Rmatrix_train_pre[i][j] = 0; Rmatrix_pre[i][j] = 0"
      ],
      "metadata": {
        "id": "vtH5O2-2tmvL"
      },
      "execution_count": 6,
      "outputs": []
    },
    {
      "cell_type": "code",
      "source": [
        "Rmatrix_train_pre2 = Rmatrix_train.copy()\n",
        "Rmatrix_pre2 = Rmatrix.copy()\n",
        "\n",
        "for i in range(num_user):\n",
        "    for j in range(num_movie):\n",
        "        if Cat_rating[i][j] == 2 and Rmatrix_train[i][j] >= 2:\n",
        "            Rmatrix_train_pre2[i][j] = 1; Rmatrix_pre2[i][j] = 1\n",
        "        if Cat_rating[i][j] == 20 and 0 < Rmatrix_train[i][j] < 2:\n",
        "            Rmatrix_train_pre2[i][j] = 2.5; Rmatrix_pre2[i][j] = 2.5\n",
        "        if Cat_rating[i][j] == 20 and Rmatrix_train[i][j] >= 4:\n",
        "            Rmatrix_train_pre2[i][j] = 2.5; Rmatrix_pre2[i][j] = 2.5\n",
        "        if Cat_rating[i][j] == 200 and 0 < Rmatrix_train[i][j] < 4:\n",
        "            Rmatrix_train_pre2[i][j] = 4.5; Rmatrix_pre2[i][j] = 4.5"
      ],
      "metadata": {
        "id": "HgGG1TU4HwTK"
      },
      "execution_count": 7,
      "outputs": []
    },
    {
      "cell_type": "code",
      "source": [
        "Rmatrix_train_new = Rmatrix_train_pre.copy()\n",
        "Rmatrix_new = Rmatrix_pre.copy()\n",
        "\n",
        "for i in range(len(train_loss_mat)):\n",
        "    for j in range(len(train_loss_mat[0])):\n",
        "        if train_loss_mat[i][j] > 1.5:\n",
        "            Rmatrix_train_new[i][j] = 0\n",
        "            Rmatrix_new[i][j] = 0\n",
        "\n",
        "training_set_pre = torch.FloatTensor(Rmatrix_train_pre)/5\n",
        "training_set_pre2 = torch.FloatTensor(Rmatrix_train_pre2)/5\n",
        "training_set_new = torch.FloatTensor(Rmatrix_train_new)/5"
      ],
      "metadata": {
        "id": "BAezT3FJa5I8"
      },
      "execution_count": 8,
      "outputs": []
    },
    {
      "cell_type": "code",
      "source": [
        "user_coverage1 = num_user - np.sum(Rmatrix_train, axis=0).tolist().count(0)\n",
        "user_coverage2 = num_user - np.sum(Rmatrix_train_pre, axis=0).tolist().count(0)\n",
        "user_coverage3 = num_user - np.sum(Rmatrix_train_new, axis=0).tolist().count(0)\n",
        "item_coverage1 = num_movie - np.sum(Rmatrix_train, axis=1).tolist().count(0)\n",
        "item_coverage2 = num_movie - np.sum(Rmatrix_train_pre, axis=1).tolist().count(0)\n",
        "item_coverage3 = num_movie - np.sum(Rmatrix_train_new, axis=1).tolist().count(0)\n",
        "\n",
        "coverage1 = (user_coverage1*item_coverage1)/(num_user*num_movie)\n",
        "coverage2 = (user_coverage2*item_coverage2)/(num_user*num_movie)\n",
        "coverage3 = (user_coverage3*item_coverage3)/(num_user*num_movie)\n",
        "\n",
        "print(\"Coverage1:\", coverage1)\n",
        "print(\"Coverage2:\", coverage2)\n",
        "print(\"Coverage3:\", coverage3)"
      ],
      "metadata": {
        "colab": {
          "base_uri": "https://localhost:8080/"
        },
        "id": "ttzV_FEoz5X7",
        "outputId": "bc9d324e-51dc-4767-cc06-c2e537bc5190"
      },
      "execution_count": 9,
      "outputs": [
        {
          "output_type": "stream",
          "name": "stdout",
          "text": [
            "Coverage1: 1.0\n",
            "Coverage2: 1.0\n",
            "Coverage3: 1.0\n"
          ]
        }
      ]
    },
    {
      "cell_type": "code",
      "source": [
        "test_in = Rmatrix/5\n",
        "test_set = torch.FloatTensor(Rmatrix)/5\n",
        "\n",
        "for i in range(num_user):\n",
        "    input = Variable(training_set[i]).unsqueeze(0)\n",
        "    target = Variable(test_set[i]).unsqueeze(0)\n",
        "    output = ae(input)[1]\n",
        "    output[target == input] = input[target == input]\n",
        "\n",
        "    if i == 0: test_out = output.detach().numpy()\n",
        "    else: test_out = np.append(test_out, output.detach().numpy(), axis=0)\n",
        "\n",
        "test_loss_mat = np.abs(test_in - test_out)\n",
        "test_list = {}; test_list['user'] = []; test_list['item'] = []; test_list['real'] = []; test_list['pred'] = []; test_list['loss'] = []\n",
        "for i in range(len(test_loss_mat)):\n",
        "    for j in range(len(test_loss_mat[0])):\n",
        "        if test_loss_mat[i][j] > 1e-7:\n",
        "            test_list['user'] += [i]\n",
        "            test_list['item'] += [j]\n",
        "            test_list['real'] += [5*test_in[i][j]]\n",
        "            test_list['pred'] += [5*test_out[i][j]]\n",
        "            test_list['loss'] += [5*test_loss_mat[i][j]]\n",
        "test_list = pd.DataFrame(test_list)\n",
        "\n",
        "\n",
        "\n",
        "test_in_pre = Rmatrix_pre/5\n",
        "test_set_pre = torch.FloatTensor(Rmatrix_pre)/5\n",
        "\n",
        "for i in range(num_user):\n",
        "    input = Variable(training_set_pre[i]).unsqueeze(0)\n",
        "    target = Variable(test_set_pre[i]).unsqueeze(0)\n",
        "    output = ae_cat(input)[1]\n",
        "    output[target == input] = input[target == input]\n",
        "\n",
        "    if i == 0: test_out_pre = output.detach().numpy()\n",
        "    else: test_out_pre = np.append(test_out_pre, output.detach().numpy(), axis=0)\n",
        "\n",
        "test_loss_mat2 = np.abs(test_in_pre - test_out_pre)\n",
        "test_list2 = {}; test_list2['user'] = []; test_list2['item'] = []; test_list2['real'] = []; test_list2['pred'] = []; test_list2['loss'] = []\n",
        "for i in range(len(test_loss_mat2)):\n",
        "    for j in range(len(test_loss_mat2[0])):\n",
        "        if test_loss_mat2[i][j] > 1e-7:\n",
        "            test_list2['user'] += [i]\n",
        "            test_list2['item'] += [j]\n",
        "            test_list2['real'] += [5*test_in_pre[i][j]]\n",
        "            test_list2['pred'] += [5*test_out_pre[i][j]]\n",
        "            test_list2['loss'] += [5*test_loss_mat2[i][j]]\n",
        "test_list2 = pd.DataFrame(test_list2)\n",
        "\n",
        "\n",
        "\n",
        "test_in_pre2 = Rmatrix_pre2/5\n",
        "test_set_pre2 = torch.FloatTensor(Rmatrix_pre2)/5\n",
        "\n",
        "for i in range(num_user):\n",
        "    input = Variable(training_set_pre2[i]).unsqueeze(0)\n",
        "    target = Variable(test_set_pre2[i]).unsqueeze(0)\n",
        "    output = ae_cat2(input)[1]\n",
        "    output[target == input] = input[target == input]\n",
        "\n",
        "    if i == 0: test_out_pre2 = output.detach().numpy()\n",
        "    else: test_out_pre2 = np.append(test_out_pre2, output.detach().numpy(), axis=0)\n",
        "\n",
        "test_loss_mat22 = np.abs(test_in_pre2 - test_out_pre2)\n",
        "test_list22 = {}; test_list22['user'] = []; test_list22['item'] = []; test_list22['real'] = []; test_list22['pred'] = []; test_list22['loss'] = []\n",
        "for i in range(len(test_loss_mat22)):\n",
        "    for j in range(len(test_loss_mat22[0])):\n",
        "        if test_loss_mat22[i][j] > 1e-7:\n",
        "            test_list22['user'] += [i]\n",
        "            test_list22['item'] += [j]\n",
        "            test_list22['real'] += [5*test_in_pre2[i][j]]\n",
        "            test_list22['pred'] += [5*test_out_pre2[i][j]]\n",
        "            test_list22['loss'] += [5*test_loss_mat22[i][j]]\n",
        "test_list22 = pd.DataFrame(test_list22)\n",
        "\n",
        "\n",
        "\n",
        "test_in_new = Rmatrix_new/5\n",
        "test_set_new = torch.FloatTensor(Rmatrix_new)/5\n",
        "\n",
        "for i in range(num_user):\n",
        "    input = Variable(training_set_new[i]).unsqueeze(0)\n",
        "    target = Variable(test_set_new[i]).unsqueeze(0)\n",
        "    output = ae_main(input)[1]\n",
        "    output[target == input] = input[target == input]\n",
        "\n",
        "    if i == 0: test_out_new = output.detach().numpy()\n",
        "    else: test_out_new = np.append(test_out_new, output.detach().numpy(), axis=0)\n",
        "\n",
        "test_loss_mat3 = np.abs(test_in_new - test_out_new)\n",
        "test_list3 = {}; test_list3['user'] = []; test_list3['item'] = []; test_list3['real'] = []; test_list3['pred'] = []; test_list3['loss'] = []\n",
        "for i in range(len(test_loss_mat3)):\n",
        "    for j in range(len(test_loss_mat3[0])):\n",
        "        if test_loss_mat3[i][j] > 1e-7:\n",
        "            test_list3['user'] += [i]\n",
        "            test_list3['item'] += [j]\n",
        "            test_list3['real'] += [5*test_in_new[i][j]]\n",
        "            test_list3['pred'] += [5*test_out_new[i][j]]\n",
        "            test_list3['loss'] += [5*test_loss_mat3[i][j]]\n",
        "test_list3 = pd.DataFrame(test_list3)"
      ],
      "metadata": {
        "id": "1k0_cI2_bIsG"
      },
      "execution_count": 10,
      "outputs": []
    },
    {
      "cell_type": "code",
      "source": [
        "def RMSE(x):\n",
        "    y = 0\n",
        "    for i in range(len(x)):\n",
        "        y += x[i]*x[i]\n",
        "    y = np.sqrt(y/len(x))\n",
        "    return y\n",
        "\n",
        "test_list_sort = test_list.sort_values(by=[\"loss\"], ascending=[True])\n",
        "test_list_sort2 = test_list2.sort_values(by=[\"loss\"], ascending=[True])\n",
        "test_list_sort22 = test_list22.sort_values(by=[\"loss\"], ascending=[True])\n",
        "test_list_sort3 = test_list3.sort_values(by=[\"loss\"], ascending=[True])\n",
        "\n",
        "ratio_low_rank = [0.8, 0.85, 0.9, 0.95, 1]\n",
        "RMSE_list1 = []; RMSE_list2 = []; RMSE_list22 = []; RMSE_list3 = []\n",
        "MAE_list1 = []; MAE_list2 = []; MAE_list22 = []; MAE_list3 = []\n",
        "for r in ratio_low_rank:\n",
        "    print('ratio low rank: '+str(r))\n",
        "    num_high_rank = int(len(test_list_sort['loss'])*(1-r)); num_low_rank = int(len(test_list_sort['loss'])*r)\n",
        "\n",
        "    RMSE_list1 += [RMSE(np.array(test_list_sort['loss'])[:num_low_rank])]\n",
        "    MAE_list1 += [np.mean(np.array(test_list_sort['loss'])[:num_low_rank])]\n",
        "    print('test RMSE1: '+str(round(RMSE_list1[-1],4))+', test MAE1: '+str(round(MAE_list1[-1],4)))\n",
        "    \n",
        "    RMSE_list2 += [RMSE(np.array(test_list_sort2['loss'])[:num_low_rank])]\n",
        "    MAE_list2 += [np.mean(np.array(test_list_sort2['loss'])[:num_low_rank])]\n",
        "    print('test RMSE2: '+str(round(RMSE_list2[-1],4))+', test MAE2: '+str(round(MAE_list2[-1],4)))\n",
        "\n",
        "    RMSE_list22 += [RMSE(np.array(test_list_sort22['loss'])[:num_low_rank])]\n",
        "    MAE_list22 += [np.mean(np.array(test_list_sort22['loss'])[:num_low_rank])]\n",
        "    print('test RMSE22: '+str(round(RMSE_list22[-1],4))+', test MAE22: '+str(round(MAE_list22[-1],4)))\n",
        "    \n",
        "    RMSE_list3 += [RMSE(np.array(test_list_sort3['loss'])[:num_low_rank])]\n",
        "    MAE_list3 += [np.mean(np.array(test_list_sort3['loss'])[:num_low_rank])]\n",
        "    print('test RMSE3: '+str(round(RMSE_list3[-1],4))+', test MAE3: '+str(round(MAE_list3[-1],4)))\n",
        "    print('----------------------------------------')\n",
        "\n",
        "xs = np.linspace(0.0, 5.0, 200)\n",
        "pdf_pred = gaussian_kde(test_list_sort['loss'])\n",
        "pdf_pred2 = gaussian_kde(test_list_sort2['loss'])\n",
        "pdf_pred22 = gaussian_kde(test_list_sort22['loss'])\n",
        "pdf_pred3 = gaussian_kde(test_list_sort3['loss'])\n",
        "fig_pdf = plt.figure()\n",
        "plt.plot(xs, pdf_pred(xs), \"r:\", linewidth=1.5, label=\"Vanilla AutoRec\")\n",
        "plt.plot(xs, pdf_pred2(xs), \"g-.\", linewidth=1.5, label=\"RC-R\")\n",
        "plt.plot(xs, pdf_pred22(xs), \"c--\", linewidth=1.5, label=\"RC-C\")\n",
        "plt.plot(xs, pdf_pred3(xs), \"b\", linewidth=1.5, label=\"Proposed Method\")\n",
        "plt.xticks(fontsize = 12)\n",
        "plt.yticks(fontsize = 12)\n",
        "plt.xlabel(\"Rating Prediction Error\", fontsize=14)\n",
        "plt.ylabel(\"PDF\", fontsize=14)\n",
        "plt.xlim([0,4])\n",
        "plt.ylim([-0.05,1.05])\n",
        "plt.grid(linestyle='--', linewidth=0.5)\n",
        "plt.legend(fontsize=12, loc=1)\n",
        "plt.show()"
      ],
      "metadata": {
        "colab": {
          "base_uri": "https://localhost:8080/",
          "height": 837
        },
        "id": "xJrxdNnhbM6I",
        "outputId": "ddd69813-2b05-4542-db9e-fd88259a3ac8"
      },
      "execution_count": 11,
      "outputs": [
        {
          "output_type": "stream",
          "name": "stdout",
          "text": [
            "ratio low rank: 0.8\n",
            "test RMSE1: 0.6342, test MAE1: 0.5369\n",
            "test RMSE2: 0.6185, test MAE2: 0.5216\n",
            "test RMSE22: 0.6289, test MAE22: 0.5295\n",
            "test RMSE3: 0.6108, test MAE3: 0.5147\n",
            "----------------------------------------\n",
            "ratio low rank: 0.85\n",
            "test RMSE1: 0.6902, test MAE1: 0.5811\n",
            "test RMSE2: 0.6752, test MAE2: 0.566\n",
            "test RMSE22: 0.6858, test MAE22: 0.5742\n",
            "test RMSE3: 0.6687, test MAE3: 0.5596\n",
            "----------------------------------------\n",
            "ratio low rank: 0.9\n",
            "test RMSE1: 0.755, test MAE1: 0.6305\n",
            "test RMSE2: 0.7406, test MAE2: 0.6154\n",
            "test RMSE22: 0.7516, test MAE22: 0.6241\n",
            "test RMSE3: 0.7361, test MAE3: 0.6099\n",
            "----------------------------------------\n",
            "ratio low rank: 0.95\n",
            "test RMSE1: 0.833, test MAE1: 0.6872\n",
            "test RMSE2: 0.8236, test MAE2: 0.6742\n",
            "test RMSE22: 0.8356, test MAE22: 0.6837\n",
            "test RMSE3: 0.8217, test MAE3: 0.6699\n",
            "----------------------------------------\n",
            "ratio low rank: 1\n",
            "test RMSE1: 0.9591, test MAE1: 0.7656\n",
            "test RMSE2: 0.9707, test MAE2: 0.7608\n",
            "test RMSE22: 0.9825, test MAE22: 0.7707\n",
            "test RMSE3: 0.9764, test MAE3: 0.7596\n",
            "----------------------------------------\n"
          ]
        },
        {
          "output_type": "display_data",
          "data": {
            "text/plain": [
              "<Figure size 432x288 with 1 Axes>"
            ],
            "image/png": "[encoded data removed]"
          },
          "metadata": {
            "needs_background": "light"
          }
        }
      ]
    },
    {
      "cell_type": "code",
      "source": [
        "def BIN(real,pred):\n",
        "    tp_num = 0; fp_num = 0; fn_num = 0; tn_num = 0\n",
        "    for i in range(len(real)):\n",
        "        if real[i] == 1 and pred[i] == 1:\n",
        "            tp_num += 1\n",
        "        if real[i] == 0 and pred[i] == 1:\n",
        "            fp_num += 1\n",
        "        if real[i] == 1 and pred[i] == 0:\n",
        "            fn_num += 1\n",
        "        if real[i] == 0 and pred[i] == 0:\n",
        "            tn_num += 1\n",
        "    return tp_num, fp_num, fn_num, tn_num\n",
        "\n",
        "test_list_bin = test_list.copy()\n",
        "test_list_bin2 = test_list2.copy()\n",
        "test_list_bin22 = test_list22.copy()\n",
        "test_list_bin3 = test_list3.copy()\n",
        "\n",
        "threshold_rate = 3.5\n",
        "test_list_bin.loc[test_list_bin['real'] < threshold_rate, 'real'] = 0\n",
        "test_list_bin.loc[test_list_bin['real'] > threshold_rate, 'real'] = 1\n",
        "test_list_bin.loc[test_list_bin['pred'] < threshold_rate, 'pred'] = 0\n",
        "test_list_bin.loc[test_list_bin['pred'] > threshold_rate, 'pred'] = 1\n",
        "test_list_bin['loss'] = np.abs(np.array(test_list_bin['real']) - np.array(test_list_bin['pred'])).tolist()\n",
        "test_list_bin2.loc[test_list_bin2['real'] < threshold_rate, 'real'] = 0\n",
        "test_list_bin2.loc[test_list_bin2['real'] > threshold_rate, 'real'] = 1\n",
        "test_list_bin2.loc[test_list_bin2['pred'] < threshold_rate, 'pred'] = 0\n",
        "test_list_bin2.loc[test_list_bin2['pred'] > threshold_rate, 'pred'] = 1\n",
        "test_list_bin2['loss'] = np.abs(np.array(test_list_bin2['real']) - np.array(test_list_bin2['pred'])).tolist()\n",
        "test_list_bin22.loc[test_list_bin22['real'] < threshold_rate, 'real'] = 0\n",
        "test_list_bin22.loc[test_list_bin22['real'] > threshold_rate, 'real'] = 1\n",
        "test_list_bin22.loc[test_list_bin22['pred'] < threshold_rate, 'pred'] = 0\n",
        "test_list_bin22.loc[test_list_bin22['pred'] > threshold_rate, 'pred'] = 1\n",
        "test_list_bin22['loss'] = np.abs(np.array(test_list_bin22['real']) - np.array(test_list_bin22['pred'])).tolist()\n",
        "test_list_bin3.loc[test_list_bin3['real'] < threshold_rate, 'real'] = 0\n",
        "test_list_bin3.loc[test_list_bin3['real'] > threshold_rate, 'real'] = 1\n",
        "test_list_bin3.loc[test_list_bin3['pred'] < threshold_rate, 'pred'] = 0\n",
        "test_list_bin3.loc[test_list_bin3['pred'] > threshold_rate, 'pred'] = 1\n",
        "test_list_bin3['loss'] = np.abs(np.array(test_list_bin3['real']) - np.array(test_list_bin3['pred'])).tolist()\n",
        "\n",
        "test_list_bin_sort = test_list_bin.sort_values(by=[\"loss\"], ascending=[True])\n",
        "test_list_bin_sort2 = test_list_bin2.sort_values(by=[\"loss\"], ascending=[True])\n",
        "test_list_bin_sort22 = test_list_bin22.sort_values(by=[\"loss\"], ascending=[True])\n",
        "test_list_bin_sort3 = test_list_bin3.sort_values(by=[\"loss\"], ascending=[True])\n",
        "\n",
        "ratio_low_rank = [0.8, 0.85, 0.9, 0.95, 1]\n",
        "PREC_list1 = []; PREC_list2 = []; PREC_list22 = []; PREC_list3 = []\n",
        "REC_list1 = []; REC_list2 = []; REC_list22 = []; REC_list3 = []\n",
        "F_list1 = []; F_list2 = []; F_list22 = []; F_list3 = []\n",
        "ACC_list1 = []; ACC_list2 = []; ACC_list22 = []; ACC_list3 = []\n",
        "for r in ratio_low_rank:\n",
        "    print('ratio low rank: '+str(r))\n",
        "    num_high_rank = int(len(test_list_bin_sort['loss'])*(1-r)); num_low_rank = int(len(test_list_bin_sort['loss'])*r)\n",
        "\n",
        "    BIN1 = BIN(np.array(test_list_bin_sort['real'])[:num_low_rank], np.array(test_list_bin_sort['pred'])[:num_low_rank])\n",
        "    PREC_list1 += [BIN1[0]/(BIN1[0]+BIN1[1])]\n",
        "    REC_list1 += [BIN1[0]/(BIN1[0]+BIN1[2])]\n",
        "    ACC_list1 += [(BIN1[0]+BIN1[3])/(BIN1[0]+BIN1[1]+BIN1[2]+BIN1[3])]\n",
        "    F_list1 += [(2*PREC_list1[-1]*REC_list1[-1])/(PREC_list1[-1]+REC_list1[-1])]\n",
        "    print('test PREC1: '+str(round(PREC_list1[-1],4))+', test REC1: '+str(round(REC_list1[-1],4))\n",
        "          +', test F1: '+str(round(F_list1[-1],4))+', test ACC1: '+str(round(ACC_list1[-1],4)))\n",
        "    \n",
        "    BIN2 = BIN(np.array(test_list_bin_sort2['real'])[:num_low_rank], np.array(test_list_bin_sort2['pred'])[:num_low_rank])\n",
        "    PREC_list2 += [BIN2[0]/(BIN2[0]+BIN2[1])]\n",
        "    REC_list2 += [BIN2[0]/(BIN2[0]+BIN2[2])]\n",
        "    ACC_list2 += [(BIN2[0]+BIN2[3])/(BIN2[0]+BIN2[1]+BIN2[2]+BIN2[3])]\n",
        "    F_list2 += [(2*PREC_list2[-1]*REC_list2[-1])/(PREC_list2[-1]+REC_list2[-1])]\n",
        "    print('test PREC2: '+str(round(PREC_list2[-1],4))+', test REC2: '+str(round(REC_list2[-1],4))\n",
        "          +', test F2: '+str(round(F_list2[-1],4))+', test ACC2: '+str(round(ACC_list2[-1],4)))\n",
        "    \n",
        "    BIN22 = BIN(np.array(test_list_bin_sort22['real'])[:num_low_rank], np.array(test_list_bin_sort22['pred'])[:num_low_rank])\n",
        "    PREC_list22 += [BIN22[0]/(BIN22[0]+BIN22[1])]\n",
        "    REC_list22 += [BIN22[0]/(BIN22[0]+BIN22[2])]\n",
        "    ACC_list22 += [(BIN22[0]+BIN22[3])/(BIN22[0]+BIN22[1]+BIN22[2]+BIN22[3])]\n",
        "    F_list22 += [(2*PREC_list22[-1]*REC_list22[-1])/(PREC_list22[-1]+REC_list22[-1])]\n",
        "    print('test PREC22: '+str(round(PREC_list22[-1],4))+', test REC22: '+str(round(REC_list22[-1],4))\n",
        "          +', test F22: '+str(round(F_list22[-1],4))+', test ACC22: '+str(round(ACC_list22[-1],4)))\n",
        "\n",
        "    BIN3 = BIN(np.array(test_list_bin_sort3['real'])[:num_low_rank], np.array(test_list_bin_sort3['pred'])[:num_low_rank])\n",
        "    PREC_list3 += [BIN3[0]/(BIN3[0]+BIN3[1])]\n",
        "    REC_list3 += [BIN3[0]/(BIN3[0]+BIN3[2])]\n",
        "    ACC_list3 += [(BIN3[0]+BIN3[3])/(BIN3[0]+BIN3[1]+BIN3[2]+BIN3[3])]\n",
        "    F_list3 += [(2*PREC_list3[-1]*REC_list3[-1])/(PREC_list3[-1]+REC_list3[-1])]\n",
        "    print('test PREC3: '+str(round(PREC_list3[-1],4))+', test REC3: '+str(round(REC_list3[-1],4))\n",
        "          +', test F3: '+str(round(F_list3[-1],4))+', test ACC3: '+str(round(ACC_list3[-1],4)))\n",
        "    print('----------------------------------------------------------------------------------------------------')"
      ],
      "metadata": {
        "colab": {
          "base_uri": "https://localhost:8080/"
        },
        "id": "Zl2-c6UNWr_7",
        "outputId": "63c0824b-b8bd-45e5-d3b2-385531129ff5"
      },
      "execution_count": 12,
      "outputs": [
        {
          "output_type": "stream",
          "name": "stdout",
          "text": [
            "ratio low rank: 0.8\n",
            "test PREC1: 0.905, test REC1: 0.8541, test F1: 0.8788, test ACC1: 0.872\n",
            "test PREC2: 0.9005, test REC2: 0.914, test F2: 0.9072, test ACC2: 0.8909\n",
            "test PREC22: 0.8984, test REC22: 0.8999, test F22: 0.8992, test ACC22: 0.8829\n",
            "test PREC3: 0.9065, test REC3: 0.9184, test F3: 0.9124, test ACC3: 0.8948\n",
            "----------------------------------------------------------------------------------------------------\n",
            "ratio low rank: 0.85\n",
            "test PREC1: 0.8615, test REC1: 0.8001, test F1: 0.8297, test ACC1: 0.8208\n",
            "test PREC2: 0.859, test REC2: 0.8638, test F2: 0.8614, test ACC2: 0.8385\n",
            "test PREC22: 0.8517, test REC22: 0.8549, test F22: 0.8533, test ACC22: 0.831\n",
            "test PREC3: 0.8552, test REC3: 0.8798, test F3: 0.8673, test ACC3: 0.8422\n",
            "----------------------------------------------------------------------------------------------------\n",
            "ratio low rank: 0.9\n",
            "test PREC1: 0.8287, test REC1: 0.747, test F1: 0.7857, test ACC1: 0.7751\n",
            "test PREC2: 0.8181, test REC2: 0.822, test F2: 0.82, test ACC2: 0.7919\n",
            "test PREC22: 0.8122, test REC22: 0.8114, test F22: 0.8118, test ACC22: 0.7848\n",
            "test PREC3: 0.8147, test REC3: 0.8385, test F3: 0.8264, test ACC3: 0.7953\n",
            "----------------------------------------------------------------------------------------------------\n",
            "ratio low rank: 0.95\n",
            "test PREC1: 0.798, test REC1: 0.7008, test F1: 0.7462, test ACC1: 0.7344\n",
            "test PREC2: 0.7764, test REC2: 0.7886, test F2: 0.7824, test ACC2: 0.7502\n",
            "test PREC22: 0.7671, test REC22: 0.7815, test F22: 0.7742, test ACC22: 0.7435\n",
            "test PREC3: 0.7723, test REC3: 0.807, test F3: 0.7893, test ACC3: 0.7535\n",
            "----------------------------------------------------------------------------------------------------\n",
            "ratio low rank: 1\n",
            "test PREC1: 0.7694, test REC1: 0.6599, test F1: 0.7105, test ACC1: 0.6976\n",
            "test PREC2: 0.7377, test REC2: 0.7589, test F2: 0.7481, test ACC2: 0.7127\n",
            "test PREC22: 0.7368, test REC22: 0.743, test F22: 0.7399, test ACC22: 0.7063\n",
            "test PREC3: 0.7321, test REC3: 0.7799, test F3: 0.7553, test ACC3: 0.7158\n",
            "----------------------------------------------------------------------------------------------------\n"
          ]
        }
      ]
    },
    {
      "cell_type": "code",
      "source": [
        "fig_pdf_train.savefig('fig_pdf_train.pdf', bbox_inches='tight', format='pdf', dpi=1000)\n",
        "fig_box_train.savefig('fig_box_train.pdf', bbox_inches='tight', format='pdf', dpi=1000)\n",
        "fig_pdf.savefig('fig_pdf_100k.pdf', bbox_inches='tight', format='pdf', dpi=1000)"
      ],
      "metadata": {
        "id": "8A3CB5Ogb8LE"
      },
      "execution_count": 13,
      "outputs": []
    }
  ]
}